{
 "cells": [
  {
   "cell_type": "markdown",
   "metadata": {},
   "source": [
    "### <center>Логистическая регрессия</center>\n",
    "\n",
    "#### Линейный классификатор\n",
    "\n",
    "Перед тем, как непосредственно перейти к логистической регрессии, рассмотрим задачу линейной классификации в целом. И начнем с самого простого ее варианта - бинарной классификации. В этом случае мы будем определять к какому из двух классов можно отнести объект.  \n",
    "  \n",
    "Вы уже знакомы с линейной регрессией, а линейный классификатор устроен очень похоже. В линейной регрессии чтобы получить отклик \"$y$\" мы складывали все признаки с весами (добавив еще вес для свободного коэффициента):\n",
    "\n",
    "$y = w_0 + w_1x_1 + w_2x_2 + ... + w_nx_n$\n",
    "\n",
    "В случае регрессии нас все устраивало. Мы получали в \"$y$\" какое-либо вещественное значение, а в задаче классификации нам нужно получить метку класса - \"+\" или \"-\" (\"+1\" или \"-1\", \"0\" или \"1\"). Для этого можно взять знак от выражения для регрессии:\n",
    "\n",
    "$y(x) = sign(w_0 + w_1x_1 + w_2x_2 + ... + w_nx_n)$ - это и есть формула линейного классификатора.\n",
    "\n",
    "В математике функция $sign(x)$ (знак числа) определена так:   \n",
    "$sign(x) = 1$, если $x > 0,$   \n",
    "$sign(x) = -1$, если $x < 0$,   \n",
    "$sign(x) = 0$, если $x = 0$.\n",
    "\n",
    "Теперь давайте разберемся, какой геометрический смысл у линейного классификатора. \n",
    "\n",
    "$w_0 + w_1x_1 + w_2x_2 + ... + w_nx_n$ - это уравнение гиперплоскости, причем эта плоскость расположена перпендикулярно вектору весов этой модели. Таким образом, эта плоскость делит пространство на два класса, и все объекты, которые находятся с одной стороны относит к классу \"+1\", а те которые с другой стороны - к классу \"-1\" (см. левую часть рисунка).\n",
    "\n",
    "<img src=\"linearNonlinear.png\">  \n",
    "\n",
    "\n",
    "Если это можно сделать без ошибок, то обучающая выборка называется *линейно разделимой*. А в случае, если разделяющая классы поверхность уже не является  плоскостью, говорят о нелинейном классификаторе (см. правую часть рисунка).  \n",
    "\n",
    "Если посмотреть на данное разделение в двумерном пространстве, то разделяющая плоскость превратится в линию. Если объект располагается над ней, то алгоритм относит его к классу \"+\", а если под ней, то к классу \"-\". Очевидно, что изображенный на рисунке классификатор ошибается довольно часто.  \n",
    "\n",
    "<img src=\"logreg2.png\" width=60%> "
   ]
  },
  {
   "cell_type": "markdown",
   "metadata": {},
   "source": [
    "#### Логистическая регрессия\n",
    "\n",
    "Логистическая регрессия - это частный случай линейного классификатора. Она относится к методам обучения с учителем. И здесь так же, как и в линейной регрессии, по признаковому описанию объекта (по вектору признаков) предказывается значение отклика (целевой переменной). А именно, вероятность принадлежности объекта к классу. \n",
    "\n",
    "Известно, что все регрессионные модели имеют следующий вид:\n",
    "\n",
    "$y = F(x_1,x_2,...,x_n)$\n",
    "\n",
    "И, теоретически, ничто нам не мешает ее использовать в задаче классификации. Мы можем воспользоваться градиентным спуском и подобрать веса модели в зависимости от признаков и ответа на объектах выборки.\n",
    "Допустим, мы ее применили для классификации в задаче \"Пойдет ли завтра дождь?\": класс \"+\" будет означать, что пойдет, а \"-\", что не пойдет. В результате, линейная регрессия даст ответ который может быть любым вещественным числом в диапазоне от $-\\infty$ до $+\\infty$. Получается, что нам нужна функция которая позволит преобразовать пространство всех вещественных чисел в диапазон от $[0,1]$, т.к. мы хотим рассчитать вероятность.\n",
    "\n",
    "Такая функция есть, она принадлежит семейству обобщенных линейных моделей, и называется она \"сигмоида\":\n",
    "\n",
    "$$\\sigma(z) = \\frac{1}{1 + \\exp^{-z}}$$\n",
    "\n",
    "$$z = F(x_1,x_2,...,x_n)$$\n",
    "\n",
    "Для одномерного случая: $w_1x + w_0$\n",
    "- значение $w_0$ (свободный коэффициент) определяет положение центра сигмоиды на числовой оси;\n",
    "- а вес при единственном признаке $w_1$ определяет форму сигмоиды.\n",
    "\n",
    "Если $w_1$ положительный, то сигмоида возрастающая, а если отрицательный, то убывающая.\n",
    "\n",
    "<img src=\"sigm.png\"> <img src=\"sigm2.png\"> "
   ]
  },
  {
   "cell_type": "markdown",
   "metadata": {},
   "source": [
    "Чем больше значение $w_1$ по модулю, тем больше будет наклон сигмоиды к области ее середины: <img src=\"sigm3.png\"> "
   ]
  },
  {
   "cell_type": "markdown",
   "metadata": {},
   "source": [
    "Таким образом, логистическая регрессия прогнозирует вероятность отнесения примера к классу \"+\" (при условии, что мы знаем его признаки и веса модели) как сигмоид-преобразование линейной комбинации вектора весов модели \"$w$\" и вектора признаков \"$x$\":\n",
    "\n",
    "$$y = \\frac{1}{1 + \\exp^{-(w_0 + w_1x_1 + w_2x_2 + ... + w_nx_n)}}$$\n",
    "\n",
    "В результате, мы получаем значение \"$y$\" в диапазоне от $[0,1]$ - и это будет вероятность того, что данный объект принадлежит к классу \"+\". А итоговую метку класса мы сможем назначить, сравнивая эту вероятность с 0.5 (центр сигмоиды). Соответственно, класс \"+\" будет при y > 0.5, а класс \"-\" при y <= 0.5\n",
    "\n",
    "Получается, что самое главное в классификации логистической регрессией - подобрать веса $w$ при признаках в показателе степени $e$. Эту задачу можно решить при помощи метода максимального правдоподобия."
   ]
  },
  {
   "cell_type": "markdown",
   "metadata": {},
   "source": [
    "#### Метод максимального правдоподобия\n",
    "\n",
    "Метод максимального правдоподобия (англ. maximum likelihood estimation) в математической статистике — это метод оценивания неизвестного параметра путём максимизации функции правдоподобия. Он основан на предположении о том, что вся информация о статистической выборке содержится в функции правдоподобия.\n",
    "\n",
    "Это метод поиска модели, наилучшим образом описывающей обучающую выборку, полученную с некоторым неизвестным распределением. С его помощью можно подобрать такую оценку, при которой вероятность получить имеющиеся данные максимальна. Давайте разберем его на примере.\n",
    "\n",
    "Допустим, по пути из школы домой вы задали один и тот же вопрос 10 случайным людям.  \n",
    "<center><b>\"Нравится ли вам погода сегодня?\"</b></center>"
   ]
  },
  {
   "cell_type": "markdown",
   "metadata": {},
   "source": [
    "\\begin{array}{rr} \\hline\n",
    "Респондент &{Ответ } \\\\ \\hline\n",
    "1 &нравится \\\\ \n",
    "2 &нет \\\\ \n",
    "3 &нравится \\\\ \n",
    "4 &нет \\\\ \n",
    "5 &нравится \\\\ \n",
    "6 &нравится \\\\ \n",
    "7 &нравится \\\\ \n",
    "8 &нравится \\\\\n",
    "9 &нет \\\\ \n",
    "10 &нравится \\\\ \n",
    "\\end{array}"
   ]
  },
  {
   "cell_type": "markdown",
   "metadata": {},
   "source": [
    "Теперь у нас есть обучающающая выборка из 10 людей. И мы предполагаем, что вероятность того, что погода сегодня нравится случайному человеку равно некоему значению \"$p$\".\n",
    "\n",
    "\\begin{array}{rr} \\hline\n",
    "Респондент &{Ответ } \\\\ \\hline\n",
    "1 &p \\\\ \n",
    "2 &(1-p) \\\\ \n",
    "3 &p \\\\ \n",
    "4 &(1-p) \\\\ \n",
    "5 &p \\\\ \n",
    "6 &p \\\\ \n",
    "7 &p \\\\ \n",
    "8 &p \\\\\n",
    "9 &(1-p) \\\\ \n",
    "10 &p \\\\ \n",
    "\\end{array}"
   ]
  },
  {
   "cell_type": "markdown",
   "metadata": {},
   "source": [
    "Тогда вероятность получить такую же картину как в таблице будет равна произведению вероятностей, так как мы считаем эти события независимыми:  \n",
    "$$p\\cdot (1-p)\\cdot p\\cdot(1-p)\\cdot p\\cdot p\\cdot p\\cdot p\\cdot (1-p)\\cdot p  $$"
   ]
  },
  {
   "cell_type": "markdown",
   "metadata": {},
   "source": [
    "Упростив, мы получим функцию:  \n",
    "$$p^7\\cdot (1-p)^3$$\n",
    "\n",
    "И теперь подберем такое значение \"$p$\" при котором эта вероятность максимальна.\n",
    "\n",
    "Визуально это означает найти точку на оси $x$, которой соответствует вершина этого графика: <img src=\"p.png\">\n",
    "\n",
    "Как вы знаете, чтобы найти максимум функции, придется брать ее производную. Производную от суммы брать проще, чем от произведения, поэтому, чтобы облегчить себе жизнь, математики решили сначала логарифмировать эту функцию, а потом брать производную.\n",
    "\n",
    "$$L = \\log({p^7(1-p)^3})$$\n",
    "\n",
    "<img src=\"logp.png\">\n",
    "\n",
    "Функцию $p^7\\cdot(1-p)^3$ называют <b>функцией правдоподобия</b>, а $\\log({p^7(1-p)^3})$ - <b>логарифмической функцией правдоподобия</b>. Само же значение $p$, при котором и функция правдоподобия и логарифмическая функция правдоподобия принимают максимальные значения, называют <b>оценкой максимального правдоподобия</b>. "
   ]
  },
  {
   "cell_type": "markdown",
   "metadata": {},
   "source": [
    "<center>Итак, найдем оценку максимального правдоподобия для нашего примера.</center>\n",
    "\n",
    "<b>Шаг 1:</b>   \n",
    "По выборке выводим функцию правдоподобия:  \n",
    "\n",
    "$p\\cdot (1-p)\\cdot p\\cdot(1-p)\\cdot p\\cdot p\\cdot p\\cdot p\\cdot (1-p)\\cdot p$  \n",
    "\n",
    "<b>Шаг 2:</b>   \n",
    "Берем логарифм от этой функции и упрощаем ее.\n",
    "\n",
    "$L = \\log({p^7(1-p)^3}) = \\log{p^7} + \\log{(1-p)^3} = 7\\log{p} + 3log{(1-p)}$  \n",
    "\n",
    "<b>Шаг 3:</b>   \n",
    "Дифференцируем (берем производную по $p$) логарифмическую функцию правдоподобия $L$ и приравниваем к нулю:  \n",
    "\n",
    "$7 \\cdot \\frac{1}{p} - 3 \\cdot \\frac{1}{1-p} = 0$\n",
    "\n",
    "Домножаем обе части на $p(1-p)$:\n",
    "\n",
    "$(7\\cdot \\frac{1}{p} - 3 \\cdot\\frac{1}{1-p})\\cdot p(1-p) = 0\\cdot p(1-p)$    \n",
    "  \n",
    "$7(1-p) - 3p = 0$    \n",
    "\n",
    "$7-10p = 0$    \n",
    "\n",
    "$p = 0.7$ - и вот она, максимальная оценка правдоподобия!"
   ]
  },
  {
   "cell_type": "markdown",
   "metadata": {},
   "source": [
    "### <center>Домашняя работа</center>\n",
    "Представьте, что на следующий день вы шли из школы в два раза дольше и успели опросить больше, но совсем других случайных людей. И вот какие ответы получили.\n",
    "<center><b>\"Нравится ли вам погода сегодня?\"</b></center>\n",
    "\n",
    "\\begin{array}{rr} \\hline\n",
    "Респондент &{Ответ } \\\\ \\hline\n",
    "1 &да \\\\ \n",
    "2 &нет \\\\ \n",
    "3 &нет \\\\ \n",
    "4 &нет \\\\ \n",
    "5 &да \\\\ \n",
    "6 &нет \\\\ \n",
    "7 &да \\\\ \n",
    "8 &да \\\\\n",
    "9 &нет \\\\ \n",
    "10 &да \\\\ \n",
    "11 &да \\\\ \n",
    "12 &да \\\\ \n",
    "13 &нет \\\\ \n",
    "14 &да \\\\ \n",
    "15 &да \\\\ \n",
    "\\end{array}\n",
    "\n",
    "Рассчитайте максимальную оценку правдоподобия для этого случая."
   ]
  },
  {
   "cell_type": "markdown",
   "metadata": {},
   "source": [
    "Итак, тем кто выполнил домашку уже стало понятно -- максимальная оценка правдоподобия (в данном случае) совпадает с эмпирическим средним по выборке (из 15 человек, 9 рады сегодняшней погоде, т.о. 9/15 = 0.6). \n",
    "\n",
    "Отлично, скажете Вы, но как умение строить подобные оценки помогает при решении более сложных задач? "
   ]
  },
  {
   "cell_type": "markdown",
   "metadata": {},
   "source": [
    "#### Как использовать метод максимального правдоподобия для построения классификатора?"
   ]
  },
  {
   "cell_type": "markdown",
   "metadata": {},
   "source": [
    "C этого момента сфокусируемся на задаче бинарной классификации, в которой метка класса(ответа) может принимать лишь два значения. \n",
    "\n",
    "Пример: допустим мы хотим научиться классифицировать приходящих в банк за кредитом людей на ***хороших заемщиков*** или ***плохих заемщиков***, и предсказать вероятность невозврата кредита. Тогда метки классов можно обозначить за 0 и 1. \n",
    "\n",
    "Для решения задачи бинарной классификации можно не придумывать ничего нового и воспользоваться старой доброй линейной регрессией, которую мы с таким трудом постигали в прошлом полугодии.\n",
    "\n",
    "<img src='lr_credit_scoring.png'>\n",
    "\n",
    "По обучающей выборке была настроена модель линейной регрессии. Получается, что при задолженности\n",
    "2000\\$ \"вероятность\" просрочить платеж по кредиту равна 0.2, при задолженности 500\\$ — нулю, а при меньших\n",
    "значениях и вовсе отрицательная. Также, если задолженность больше 10000\\$, \"вероятность\" просрочки будет\n",
    "больше 1. \n",
    "\n",
    "Все это не вяжется со здравым смыслом, т.к. вероятность находится в диапазоне от 0 до 1, а модель предсказывает нам числа от -$\\infty$ до $\\infty$. Не понятно, как интерпретировать такой результат. \n",
    "\n",
    "Поэтому мы выдвинем гипотезу о том, что вероятность невозврата кредита описывается некой функцией  \n",
    "$$ h_{\\theta}(x)  = \\sigma(\\theta, x) = \\frac{1}{1 + e^{\\theta^{T}x}} = \\frac{1}{1 + e^{z}} = \\sigma(z)$$, где $$   <center>$\\theta$ -- неизвестные параметры, $x$ -- признаковое описание заемщика</center> "
   ]
  },
  {
   "cell_type": "markdown",
   "metadata": {},
   "source": [
    "Если мы подберем параметры $\\theta$ для наших данных так, чтобы $\\sigma(\\theta, x)$ ***максимально правдоподобно*** описывала нашу обучающую выборку, то в результате получим неплохой бинарный классификатор.\n",
    "\n",
    "<img src='lr_credict_scoring_sigmoid.png'>"
   ]
  },
  {
   "cell_type": "markdown",
   "metadata": {},
   "source": [
    "Итак, мы предположили что вероятность невозврата кредита есть величина\n",
    "\n",
    "$$Pr(y = 1  \\mid  x, \\theta) = h_{\\theta}(x)$$ \n",
    "\n",
    "тогда вероятность того, что кредит банку вернут есть\n",
    "\n",
    "$$Pr(y = 0  \\mid x, \\theta) = 1 - h_{\\theta}(x)$$ \n",
    "\n",
    "В общем вероятность получить какую либо метку класса можно записать следующим образом\n",
    "\n",
    "$$Pr(y \\mid x, \\theta) = h_{\\theta}(x)^{y} (1 - h_{\\theta}(x))^{1-y}$$ \n",
    "\n",
    "Предположим что наша тренировочная выборка состоит из $m$ независимых наблюдений, тогда мы можем составить функцию правдоподобия\n",
    "\n",
    "\\begin{equation}\n",
    "\\begin{aligned}\n",
    "L(\\theta) = {} & \\prod_{i=1}^{m} Pr(y \\mid x^{i}, \\theta) = \\\\\n",
    "      & \\prod_{i=1}^{m} h_{\\theta}(x)^{y^{i}} (1 - h_{\\theta}(x^{i}))^{1-y^{i}} \\\\\n",
    "\\end{aligned}\n",
    "\\end{equation}\n",
    "\n",
    "Зачем она нам нужна вообще? Вспоминаем, наша цель - подобрать параметры $\\theta$ таким образом чтобы модель наиболее правдоподобно описывала наши данные. В этом и есть математический смысл обучения.\n",
    "\n",
    "\n",
    "На практике работать с произведениями довольно неудобно, поэтому будем использовать с логарифмическую функцию правдоподобия.\n",
    "\n",
    "\\begin{equation}\n",
    "\\begin{aligned}\n",
    "l(\\theta) = {} & \\log(l(\\theta)) =  \\\\\n",
    "      & \\sum_{i=1}^{m} y^{i}\\log(h_{\\theta}(x)) + (1-y^{i})\\log(1 - h_{\\theta}(x^{i})) \\\\\n",
    "\\end{aligned}\n",
    "\\end{equation}"
   ]
  },
  {
   "cell_type": "markdown",
   "metadata": {},
   "source": [
    "Пока что это очень страшные для Вас формулы, но мы обязательно разберем их смысл. Поверьте мне, он весьма прост."
   ]
  },
  {
   "cell_type": "markdown",
   "metadata": {},
   "source": [
    "В школе Вам наверняка уже рассказывали (или еще расскажут) как искать минимальное или максимальное значение любой функции. Сейчас нам понадобится взять производную от $l(\\theta)$, но чтобы не утомлять вас этим скучным занятием, я просто прошу Вас поверить на слово что она равна следующему выражению\n",
    "\n",
    "\\begin{equation}\n",
    "\\begin{aligned}\n",
    "\\frac{d}{d\\theta_j}l(\\theta) = (y - h_{\\theta}(x))x_j\n",
    "\\end{aligned}\n",
    "\\end{equation}"
   ]
  },
  {
   "cell_type": "markdown",
   "metadata": {},
   "source": [
    "Что дает нам эта формула? Она показывает нам как нужно изменять параметры в градиентном спуске чтобы придти в точку оптимума. Очень похожа на формулу обновления весов для линейной регрессии, не првда ли? \n",
    "\n",
    "Откройте конспекты прошлых занятий и убедитесь сами!"
   ]
  },
  {
   "cell_type": "markdown",
   "metadata": {},
   "source": [
    "Прямо с этого момента мы с Вами потенциально готовы к тому чтобы самому написать алгоритм обучения логистической регрессии."
   ]
  },
  {
   "cell_type": "markdown",
   "metadata": {},
   "source": [
    "$$ \\theta_j ^ {new} = \\theta_j ^ {old} + \\alpha (y^{i} - h_{\\theta}(x^{i})) x_j$$"
   ]
  },
  {
   "cell_type": "markdown",
   "metadata": {},
   "source": [
    "### Демо"
   ]
  },
  {
   "cell_type": "markdown",
   "metadata": {},
   "source": [
    "Сгенерируем случайный датасет и попытаемся запрограммировать логистическую регрессию"
   ]
  },
  {
   "cell_type": "code",
   "execution_count": 12,
   "metadata": {},
   "outputs": [
    {
     "data": {
      "text/plain": [
       "<matplotlib.collections.PathCollection at 0x7fc90168ecd0>"
      ]
     },
     "execution_count": 12,
     "metadata": {},
     "output_type": "execute_result"
    },
    {
     "data": {
      "image/png": "[encoded data removed]",
      "text/plain": [
       "<matplotlib.figure.Figure at 0x7fc901716090>"
      ]
     },
     "metadata": {},
     "output_type": "display_data"
    }
   ],
   "source": [
    "%matplotlib inline\n",
    "\n",
    "import matplotlib.pyplot as plt\n",
    "\n",
    "from sklearn.datasets import make_classification\n",
    "from sklearn.datasets import make_blobs\n",
    "from sklearn.datasets import make_gaussian_quantiles\n",
    "\n",
    "plt.figure(figsize=(20, 20))\n",
    "plt.subplots_adjust(bottom=.05, top=.9, left=.05, right=.95)\n",
    "plt.subplot(321)\n",
    "X1, Y1 = make_classification(n_features=2, n_redundant=0, n_informative=1, n_clusters_per_class=1)\n",
    "plt.scatter(X1[:, 0], X1[:, 1], marker='o', c=Y1, s=50, edgecolor='k')"
   ]
  },
  {
   "cell_type": "code",
   "execution_count": 45,
   "metadata": {},
   "outputs": [],
   "source": [
    "import numpy as np \n",
    "\n",
    "\n",
    "def sigmoid(scores):\n",
    "    return 1 / (1 + np.exp(-scores))\n",
    "\n",
    "def log_likelihood(features, target, weights):\n",
    "    scores = np.dot(features, weights)\n",
    "    ll = np.sum( target * scores - np.log(1 + np.exp(scores)) )\n",
    "    return ll\n",
    "\n",
    "def logistic_regression(features, target, num_steps, learning_rate, add_intercept = False):\n",
    "    \n",
    "    if add_intercept:\n",
    "        intercept = np.ones((features.shape[0], 1))\n",
    "        features = np.hstack((intercept, features))\n",
    "        \n",
    "    weights = np.zeros(features.shape[1])\n",
    "    \n",
    "    history = []\n",
    "    for step in xrange(num_steps):\n",
    "        scores = np.dot(features, weights)\n",
    "        predictions = sigmoid(scores)\n",
    "\n",
    "        # Update weights with gradient\n",
    "        output_error_signal = target - predictions\n",
    "        gradient = np.dot(features.T, output_error_signal)\n",
    "        weights += learning_rate * gradient\n",
    "        \n",
    "        if step % 100 == 0:\n",
    "            llhood  = log_likelihood(features, target, weights)\n",
    "            history.append(-1 * llhood)\n",
    "#             print(llhood)\n",
    "        \n",
    "    return weights, history"
   ]
  },
  {
   "cell_type": "code",
   "execution_count": 46,
   "metadata": {
    "scrolled": true
   },
   "outputs": [],
   "source": [
    "weights, llhood = logistic_regression(X1, Y1, num_steps = 20000, learning_rate = 5e-6, add_intercept=True)"
   ]
  },
  {
   "cell_type": "code",
   "execution_count": 47,
   "metadata": {},
   "outputs": [
    {
     "data": {
      "text/plain": [
       "[<matplotlib.lines.Line2D at 0x7fc900ff85d0>]"
      ]
     },
     "execution_count": 47,
     "metadata": {},
     "output_type": "execute_result"
    },
    {
     "data": {
      "image/png": "[encoded data removed]",
      "text/plain": [
       "<matplotlib.figure.Figure at 0x7fc901067350>"
      ]
     },
     "metadata": {},
     "output_type": "display_data"
    }
   ],
   "source": [
    "plt.plot(np.arange(0,len(llhood)), llhood)"
   ]
  },
  {
   "cell_type": "code",
   "execution_count": null,
   "metadata": {},
   "outputs": [],
   "source": []
  }
 ],
 "metadata": {
  "anaconda-cloud": {},
  "kernelspec": {
   "display_name": "Python 3",
   "language": "python",
   "name": "python3"
  },
  "language_info": {
   "codemirror_mode": {
    "name": "ipython",
    "version": 2
   },
   "file_extension": ".py",
   "mimetype": "text/x-python",
   "name": "python",
   "nbconvert_exporter": "python",
   "pygments_lexer": "ipython2",
   "version": "2.7.12+"
  }
 },
 "nbformat": 4,
 "nbformat_minor": 2
}
